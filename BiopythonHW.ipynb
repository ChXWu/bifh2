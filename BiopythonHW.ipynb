{
 "cells": [
  {
   "cell_type": "markdown",
   "metadata": {},
   "source": [
    "\n",
    "### Question1 \n",
    "\n",
    "Using Bio.Entrez.efetch and SeqIO, download from GenBank, the mRNA sequences for the human genes HBA1(NM_000558)  and HBA2 (NM_000517) . Print the sequence ID, name, and description of these sequence records."
   ]
  },
  {
   "cell_type": "code",
   "execution_count": 3,
   "metadata": {},
   "outputs": [
    {
     "name": "stdout",
     "output_type": "stream",
     "text": [
      "ID: NM_000558.5\n",
      "Name: NM_000558\n",
      "Description: Homo sapiens hemoglobin subunit alpha 1 (HBA1), mRNA\n",
      "Number of features: 28\n",
      "/molecule_type=mRNA\n",
      "/topology=linear\n",
      "/data_file_division=PRI\n",
      "/date=03-AUG-2018\n",
      "/accessions=['NM_000558']\n",
      "/sequence_version=5\n",
      "/keywords=['RefSeq']\n",
      "/source=Homo sapiens (human)\n",
      "/organism=Homo sapiens\n",
      "/taxonomy=['Eukaryota', 'Metazoa', 'Chordata', 'Craniata', 'Vertebrata', 'Euteleostomi', 'Mammalia', 'Eutheria', 'Euarchontoglires', 'Primates', 'Haplorrhini', 'Catarrhini', 'Hominidae', 'Homo']\n",
      "/references=[Reference(title='Direct observation of conformational population shifts in crystalline human hemoglobin', ...), Reference(title='Impact of common genetic determinants of Hemoglobin A1c on type 2 diabetes risk and diagnosis in ancestrally diverse populations: A transethnic genome-wide meta-analysis', ...), Reference(title='Dynamical differences of hemoglobin and the ionotropic glutamate receptor in different states revealed by a new dynamics alignment method', ...), Reference(title='Hemoglobin inhibits albumin uptake by proximal tubule cells: implications for sickle cell disease', ...), Reference(title='Identification and characterization of two novel and differentially expressed isoforms of human alpha2- and alpha1-globin genes', ...), Reference(title='Alpha-Thalassemia', ...), Reference(title='Hemoglobin Moabit: alpha 86 (F7) Leu leads to Arg: a new unstable abnormal hemoglobin', ...), Reference(title='Hemoglobin J Rovigo (alpha53 Ala replaced by Asp) in association with beta-thalassemia', ...), Reference(title=\"The nucleotide sequences of the untranslated 5' regions of human alpha- and beta-globin mRNAs\", ...), Reference(title='Haemoglobin G Norfolk alpha 85 (F6) Asp leads to Asn. Structural characterization by sequenator analysis and functional properties of a new variant with high oxygen affinity', ...)]\n",
      "/comment=REVIEWED REFSEQ: This record has been curated by NCBI staff. The\n",
      "reference sequence was derived from BC005931.1.\n",
      "This sequence is a reference standard in the RefSeqGene project.\n",
      "On Aug 3, 2018 this sequence version replaced NM_000558.4.\n",
      "Summary: The human alpha globin gene cluster located on chromosome\n",
      "16 spans about 30 kb and includes seven loci: 5'- zeta - pseudozeta\n",
      "- mu - pseudoalpha-1 - alpha-2 - alpha-1 - theta - 3'. The alpha-2\n",
      "(HBA2) and alpha-1 (HBA1) coding sequences are identical. These\n",
      "genes differ slightly over the 5' untranslated regions and the\n",
      "introns, but they differ significantly over the 3' untranslated\n",
      "regions. Two alpha chains plus two beta chains constitute HbA,\n",
      "which in normal adult life comprises about 97% of the total\n",
      "hemoglobin; alpha chains combine with delta chains to constitute\n",
      "HbA-2, which with HbF (fetal hemoglobin) makes up the remaining 3%\n",
      "of adult hemoglobin. Alpha thalassemias result from deletions of\n",
      "each of the alpha genes as well as deletions of both HBA2 and HBA1;\n",
      "some nondeletion alpha thalassemias have also been reported.\n",
      "[provided by RefSeq, Jul 2008].\n",
      "Publication Note:  This RefSeq record includes a subset of the\n",
      "publications that are available for this gene. Please see the Gene\n",
      "record to access additional publications.\n",
      "COMPLETENESS: full length.\n",
      "/structured_comment=OrderedDict([('Evidence-Data', OrderedDict([('Transcript exon combination', 'BC005931.1, AL697796.1 [ECO:0000332]')]))])\n",
      "Seq('ACTCTTCTGGTCCCCACAGACTCAGAGAGAACCCACCATGGTGCTGTCTCCTGC...GCA', IUPACAmbiguousDNA())\n",
      "ID: NM_000517.6\n",
      "Name: NM_000517\n",
      "Description: Homo sapiens hemoglobin subunit alpha 2 (HBA2), mRNA\n",
      "Number of features: 28\n",
      "/molecule_type=mRNA\n",
      "/topology=linear\n",
      "/data_file_division=PRI\n",
      "/date=10-AUG-2018\n",
      "/accessions=['NM_000517']\n",
      "/sequence_version=6\n",
      "/keywords=['RefSeq']\n",
      "/source=Homo sapiens (human)\n",
      "/organism=Homo sapiens\n",
      "/taxonomy=['Eukaryota', 'Metazoa', 'Chordata', 'Craniata', 'Vertebrata', 'Euteleostomi', 'Mammalia', 'Eutheria', 'Euarchontoglires', 'Primates', 'Haplorrhini', 'Catarrhini', 'Hominidae', 'Homo']\n",
      "/references=[Reference(title='Heterogeneity between Two alpha Subunits of alpha2beta2 Human Hemoglobin and O2 Binding Properties: Raman, (1)H Nuclear Magnetic Resonance, and Terahertz Spectra', ...), Reference(title=\"Genetic origin of alpha(0)-thalassemia (SEA deletion) in Southeast Asian populations and application to accurate prenatal diagnosis of Hb Bart's hydrops fetalis syndrome\", ...), Reference(title='A Novel Mutation of the alpha2-Globin Gene Causing alpha(+)-Thalassemia: Hb Nanning (HBA2: c.369_370delinsGA)', ...), Reference(title='A Novel -72 (T-->A) beta-Promoter Mutation Causing Slightly Elevated HbA2 in a Vietnamese Heterozygote', ...), Reference(title='Identification and characterization of two novel and differentially expressed isoforms of human alpha2- and alpha1-globin genes', ...), Reference(title='Alpha-Thalassemia', ...), Reference(title=\"Cloning and complete nucleotide sequence of human 5'-alpha-globin gene\", ...), Reference(title='A new abnormal human hemoglobin: Hb Prato (alpha 2 31 (B12) Arg leads to Ser beta 2)', ...), Reference(title='Hemoglobin Suan-Dok (alpha 2 109 (G16) Leu replaced by Arg beta 2): an unstable variant associated with alpha-thalassemia', ...), Reference(title='Hemoglobin Tarrant: alpha126(H9) Asp leads to Asn. A new hemoglobin variant in the alpha1beta1 contact region showing high oxygen affinity and reduced cooperativity', ...)]\n",
      "/comment=REVIEWED REFSEQ: This record has been curated by NCBI staff. The\n",
      "reference sequence was derived from V00493.1, Z84721.1 and\n",
      "AI016696.1.\n",
      "This sequence is a reference standard in the RefSeqGene project.\n",
      "On Aug 3, 2018 this sequence version replaced NM_000517.5.\n",
      "Summary: The human alpha globin gene cluster located on chromosome\n",
      "16 spans about 30 kb and includes seven loci: 5'- zeta - pseudozeta\n",
      "- mu - pseudoalpha-1 - alpha-2 - alpha-1 - theta - 3'. The alpha-2\n",
      "(HBA2) and alpha-1 (HBA1) coding sequences are identical. These\n",
      "genes differ slightly over the 5' untranslated regions and the\n",
      "introns, but they differ significantly over the 3' untranslated\n",
      "regions. Two alpha chains plus two beta chains constitute HbA,\n",
      "which in normal adult life comprises about 97% of the total\n",
      "hemoglobin; alpha chains combine with delta chains to constitute\n",
      "HbA-2, which with HbF (fetal hemoglobin) makes up the remaining 3%\n",
      "of adult hemoglobin. Alpha thalassemias result from deletions of\n",
      "each of the alpha genes as well as deletions of both HBA2 and HBA1;\n",
      "some nondeletion alpha thalassemias have also been reported.\n",
      "[provided by RefSeq, Jul 2008].\n",
      "Publication Note:  This RefSeq record includes a subset of the\n",
      "publications that are available for this gene. Please see the Gene\n",
      "record to access additional publications.\n",
      "COMPLETENESS: full length.\n",
      "/structured_comment=OrderedDict([('Evidence-Data', OrderedDict([('Transcript exon combination', 'AI816040.1, DA782588.1 [ECO:0000332]')]))])\n",
      "Seq('ACTCTTCTGGTCCCCACAGACTCAGAGAGAACCCACCATGGTGCTGTCTCCTGC...GCA', IUPACAmbiguousDNA())\n"
     ]
    }
   ],
   "source": [
    "from Bio import Entrez, SeqIO\n",
    "Entrez.email='cw3114@nyu.edu'\n",
    "temp =Entrez.efetch(db=\"nucleotide\",rettype=\"gb\",id=\"NM_000558\") \n",
    "out = open(\"NM_000558.fasta\",'w') \n",
    "gbseq1 =SeqIO.read(temp,\"genbank\")\n",
    "SeqIO.write(gbseq1,out,\"fasta\")\n",
    "\n",
    "temp =Entrez.efetch(db=\"nucleotide\",rettype=\"gb\",id=\"NM_000517\") \n",
    "out = open(\"NM_000517.fasta\",'w') \n",
    "gbseq2 =SeqIO.read(temp,\"genbank\")\n",
    "SeqIO.write(gbseq2,out,\"fasta\")\n",
    "\n",
    "temp.close()\n",
    "out.close()\n",
    "print(gbseq1)\n",
    "print(gbseq2)"
   ]
  },
  {
   "cell_type": "markdown",
   "metadata": {},
   "source": [
    "Anwser \n",
    "```\n",
    "ID: NM_000558.5\n",
    "Name: NM_000558\n",
    "Description: Homo sapiens hemoglobin subunit alpha 1 (HBA1), mRNA\n",
    "...\n",
    "\n",
    "ID: NM_000517.6\n",
    "Name: NM_000517\n",
    "Description: Homo sapiens hemoglobin subunit alpha 2 (HBA2), mRNA\n",
    "\n",
    "```"
   ]
  },
  {
   "cell_type": "markdown",
   "metadata": {},
   "source": [
    "## Question2\n",
    "\n",
    "Read the sequence records from a list of GenBank IDs in a text file (seq_id.list) into a Python list, and import them using Bio.Entrez.efetch into a Python list of SeqRecords. Print the sequence name and the length of each of these sequences."
   ]
  },
  {
   "cell_type": "code",
   "execution_count": 27,
   "metadata": {},
   "outputs": [
    {
     "name": "stdout",
     "output_type": "stream",
     "text": [
      "Name:  NM_001301326  Length:  1020\n",
      "Name:  NM_001122995  Length:  1023\n",
      "Name:  NM_001044583  Length:  1218\n",
      "Name:  NM_001044550  Length:  2864\n",
      "Name:  NM_001122994  Length:  1201\n",
      "Name:  NM_001244641  Length:  1572\n",
      "Name:  NM_001297634  Length:  2609\n",
      "Name:  NM_001297633  Length:  2670\n",
      "Name:  NM_001297632  Length:  1846\n",
      "Name:  KJ729036  Length:  519\n",
      "Name:  KF280282  Length:  175\n",
      "Name:  KF280281  Length:  151\n",
      "Name:  KF280280  Length:  132\n",
      "Name:  NM_001244668  Length:  1402\n",
      "Name:  NM_001244667  Length:  1448\n",
      "Name:  NM_001244640  Length:  3145\n",
      "Name:  NM_001243579  Length:  1580\n",
      "Name:  NM_214269  Length:  1212\n",
      "Name:  KJ686126  Length:  878\n",
      "Name:  NM_001130735  Length:  882\n"
     ]
    }
   ],
   "source": [
    "# read seq_list from file \n",
    "seq_list = []\n",
    "for line in open(\"seq_id.list\"):\n",
    "    seq_list.append(line.rstrip('\\n'))\n",
    "#import using Bio.Entrez.efetch into list of SeqRecords\n",
    "seq_rec_list = []\n",
    "for seq in seq_list:\n",
    "    temp =Entrez.efetch(db=\"nucleotide\",rettype=\"gb\",id= seq) \n",
    "    gbseq =SeqIO.read(temp,\"genbank\")\n",
    "    seq_rec_list.append(gbseq)\n",
    "\n",
    "temp.close()\n",
    "out.close()\n",
    "### Print the sequence name and the length of each of these sequences.\n",
    "for seq_rec in seq_rec_list:\n",
    "    print (\"Name: \", seq_rec.name, \" Length: \", str(len(seq_rec)))"
   ]
  },
  {
   "cell_type": "markdown",
   "metadata": {},
   "source": [
    "Answer:\n",
    "```\n",
    "Name:  NM_001301326  Length:  1020\n",
    "Name:  NM_001122995  Length:  1023\n",
    "Name:  NM_001044583  Length:  1218\n",
    "Name:  NM_001044550  Length:  2864\n",
    "Name:  NM_001122994  Length:  1201\n",
    "Name:  NM_001244641  Length:  1572\n",
    "Name:  NM_001297634  Length:  2609\n",
    "Name:  NM_001297633  Length:  2670\n",
    "Name:  NM_001297632  Length:  1846\n",
    "Name:  KJ729036  Length:  519\n",
    "Name:  KF280282  Length:  175\n",
    "Name:  KF280281  Length:  151\n",
    "Name:  KF280280  Length:  132\n",
    "Name:  NM_001244668  Length:  1402\n",
    "Name:  NM_001244667  Length:  1448\n",
    "Name:  NM_001244640  Length:  3145\n",
    "Name:  NM_001243579  Length:  1580\n",
    "Name:  NM_214269  Length:  1212\n",
    "Name:  KJ686126  Length:  878\n",
    "Name:  NM_001130735  Length:  882\n",
    "    ```"
   ]
  },
  {
   "cell_type": "code",
   "execution_count": null,
   "metadata": {},
   "outputs": [],
   "source": [
    "Question 3 \n",
    "Import a large set of sequences from a Fasta file: ecogene.fastaa.How many sequences are in this file?b.Using Biopython, read the sequence ID, name, and description for the first Sequence Record. What do you get? Compare to the metadata available for the GenBank records above. c.What is the total length of all of the sequences in the file (just the DNA, not headers)d.Make a new FASTA file with just the sequences >= 300 bp in lengthi.Show the Python code that you usede.Make a new FASTA file with just the sequences with %GC > 60i.Show the Python code that you used"
   ]
  }
 ],
 "metadata": {
  "kernelspec": {
   "display_name": "Python 3",
   "language": "python",
   "name": "python3"
  },
  "language_info": {
   "codemirror_mode": {
    "name": "ipython",
    "version": 3
   },
   "file_extension": ".py",
   "mimetype": "text/x-python",
   "name": "python",
   "nbconvert_exporter": "python",
   "pygments_lexer": "ipython3",
   "version": "3.6.6"
  }
 },
 "nbformat": 4,
 "nbformat_minor": 2
}
