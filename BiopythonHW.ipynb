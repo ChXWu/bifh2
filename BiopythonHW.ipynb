{
 "cells": [
  {
   "cell_type": "markdown",
   "metadata": {},
   "source": [
    "\n",
    "### Question1 \n",
    "\n",
    "Using Bio.Entrez.efetch and SeqIO, download from GenBank, the mRNA sequences for the human genes HBA1(NM_000558)  and HBA2 (NM_000517) . Print the sequence ID, name, and description of these sequence records."
   ]
  },
  {
   "cell_type": "code",
   "execution_count": 68,
   "metadata": {},
   "outputs": [
    {
     "name": "stdout",
     "output_type": "stream",
     "text": [
      "Name: NM_000558 \n",
      "Id: NM_000558.5 \n",
      "Description:  Homo sapiens hemoglobin subunit alpha 1 (HBA1), mRNA\n",
      "\n",
      "Name: NM_000517 \n",
      "Id: NM_000517.6 \n",
      "Description:  Homo sapiens hemoglobin subunit alpha 2 (HBA2), mRNA\n"
     ]
    }
   ],
   "source": [
    "from Bio import Entrez, SeqIO\n",
    "Entrez.email='cw3114@nyu.edu'\n",
    "temp =Entrez.efetch(db=\"nucleotide\",rettype=\"gb\",id=\"NM_000558\") \n",
    "out = open(\"NM_000558.fasta\",'w') \n",
    "gbseq1 =SeqIO.read(temp,\"genbank\")\n",
    "SeqIO.write(gbseq1,out,\"fasta\")\n",
    "\n",
    "temp =Entrez.efetch(db=\"nucleotide\",rettype=\"gb\",id=\"NM_000517\") \n",
    "out = open(\"NM_000517.fasta\",'w') \n",
    "gbseq2 =SeqIO.read(temp,\"genbank\")\n",
    "SeqIO.write(gbseq2,out,\"fasta\")\n",
    "\n",
    "temp.close()\n",
    "out.close()\n",
    "print(\"Name:\", gbseq1.name, \"\\nId:\", gbseq1.id, \n",
    "      \"\\nDescription: \", gbseq1.description )\n",
    "\n",
    "print(\"\\nName:\", gbseq2.name, \"\\nId:\", gbseq2.id, \n",
    "      \"\\nDescription: \", gbseq2.description )"
   ]
  },
  {
   "cell_type": "markdown",
   "metadata": {},
   "source": [
    "## Question2\n",
    "\n",
    "Read the sequence records from a list of GenBank IDs in a text file (seq_id.list) into a Python list, and import them using Bio.Entrez.efetch into a Python list of SeqRecords. Print the sequence name and the length of each of these sequences."
   ]
  },
  {
   "cell_type": "code",
   "execution_count": 69,
   "metadata": {},
   "outputs": [
    {
     "name": "stdout",
     "output_type": "stream",
     "text": [
      "Name:  NM_001301326  Length:  1020\n",
      "Name:  NM_001122995  Length:  1023\n",
      "Name:  NM_001044583  Length:  1218\n",
      "Name:  NM_001044550  Length:  2864\n",
      "Name:  NM_001122994  Length:  1201\n",
      "Name:  NM_001244641  Length:  1572\n",
      "Name:  NM_001297634  Length:  2609\n",
      "Name:  NM_001297633  Length:  2670\n",
      "Name:  NM_001297632  Length:  1846\n",
      "Name:  KJ729036  Length:  519\n",
      "Name:  KF280282  Length:  175\n",
      "Name:  KF280281  Length:  151\n",
      "Name:  KF280280  Length:  132\n",
      "Name:  NM_001244668  Length:  1402\n",
      "Name:  NM_001244667  Length:  1448\n",
      "Name:  NM_001244640  Length:  3145\n",
      "Name:  NM_001243579  Length:  1580\n",
      "Name:  NM_214269  Length:  1212\n",
      "Name:  KJ686126  Length:  878\n",
      "Name:  NM_001130735  Length:  882\n"
     ]
    }
   ],
   "source": [
    "# read seq_list from file \n",
    "seq_list = []\n",
    "for line in open(\"seq_id.list\"):\n",
    "    seq_list.append(line.rstrip('\\n'))\n",
    "#import using Bio.Entrez.efetch into list of SeqRecords\n",
    "seq_rec_list = []\n",
    "for seq in seq_list:\n",
    "    temp =Entrez.efetch(db=\"nucleotide\",rettype=\"gb\",id= seq) \n",
    "    gbseq =SeqIO.read(temp,\"genbank\")\n",
    "    seq_rec_list.append(gbseq)\n",
    "\n",
    "temp.close()\n",
    "out.close()\n",
    "### Print the sequence name and the length of each of these sequences.\n",
    "for seq_rec in seq_rec_list:\n",
    "    print (\"Name: \", seq_rec.name, \" Length: \", str(len(seq_rec)))"
   ]
  },
  {
   "cell_type": "markdown",
   "metadata": {},
   "source": [
    "### Question 3 \n",
    "Import a large set of sequences from a Fasta file: ecogene.fasta\n",
    "\n",
    "a.How many sequences are in this file?\n",
    "\n",
    "b.Using Biopython, read the sequence ID, name, and description for the first Sequence Record. What do you get? Compare to the metadata available for the GenBank records above. \n",
    "\n",
    "c.What is the total length of all of the sequences in the file (just the DNA, not headers)\n",
    "\n",
    "d.Make a new FASTA file with just the sequences >= 300 bp in lengthi.Show the Python code that you used\n",
    "\n",
    "e.Make a new FASTA file with just the sequences with %GC > 60i.Show the Python code that you used"
   ]
  },
  {
   "cell_type": "code",
   "execution_count": 70,
   "metadata": {},
   "outputs": [
    {
     "name": "stdout",
     "output_type": "stream",
     "text": [
      "Number of Sequence: 4294\n"
     ]
    }
   ],
   "source": [
    "# a.\n",
    "my_seqlist =[]\n",
    "for seq_record in SeqIO.parse('ecogene.fasta','fasta'):\n",
    "    my_seqlist.append(seq_record)\n",
    "    \n",
    "print ('Number of Sequence:', str(len(my_seqlist)))\n"
   ]
  },
  {
   "cell_type": "code",
   "execution_count": 71,
   "metadata": {},
   "outputs": [
    {
     "name": "stdout",
     "output_type": "stream",
     "text": [
      "Name: eschColi_K12_refSeq_b0001 \n",
      "Id: eschColi_K12_refSeq_b0001 \n",
      "Description:  eschColi_K12_refSeq_b0001 range=chr:190-255 5'pad=0 3'pad=0 strand=+ repeatMasking=none\n"
     ]
    }
   ],
   "source": [
    "# b. \n",
    "print(\"Name:\", my_seqlist[0].name, \"\\nId:\", my_seqlist[0].id, \n",
    "      \"\\nDescription: \", my_seqlist[0].description )"
   ]
  },
  {
   "cell_type": "code",
   "execution_count": 72,
   "metadata": {},
   "outputs": [
    {
     "name": "stdout",
     "output_type": "stream",
     "text": [
      "Total length: 4130063\n"
     ]
    }
   ],
   "source": [
    "# c. \n",
    "total_length = 0\n",
    "for seq in my_seqlist:\n",
    "    total_length += len(seq)\n",
    "print (\"Total length: \" + str(total_length))"
   ]
  },
  {
   "cell_type": "code",
   "execution_count": 66,
   "metadata": {},
   "outputs": [
    {
     "name": "stdout",
     "output_type": "stream",
     "text": [
      "3858 sequences are written to the file\n"
     ]
    }
   ],
   "source": [
    "#d\n",
    "filtered_seqlist = []\n",
    "for seq in my_seqlist:\n",
    "    if len(seq) >= 300:\n",
    "        filtered_seqlist.append(seq)\n",
    "n = SeqIO.write(filtered_seqlist, \"ecogene_bp_300.fasta\", \"fasta\")\n",
    "\n",
    "print (str(n), \"sequences are written to the file\")"
   ]
  },
  {
   "cell_type": "code",
   "execution_count": 67,
   "metadata": {},
   "outputs": [
    {
     "name": "stdout",
     "output_type": "stream",
     "text": [
      "3884 sequences are written to the file\n"
     ]
    }
   ],
   "source": [
    "#e \n",
    "from Bio.SeqUtils import GC\n",
    "for seq in my_seqlist:\n",
    "    if GC(seq.seq) > 60:\n",
    "        filtered_seqlist.append(seq)\n",
    "n = SeqIO.write(filtered_seqlist, \"ecogene_gc_60.fasta\", \"fasta\")\n",
    "\n",
    "print (str(n), \"sequences are written to the file\")\n",
    "\n"
   ]
  },
  {
   "cell_type": "code",
   "execution_count": null,
   "metadata": {},
   "outputs": [],
   "source": []
  }
 ],
 "metadata": {
  "kernelspec": {
   "display_name": "Python 3",
   "language": "python",
   "name": "python3"
  },
  "language_info": {
   "codemirror_mode": {
    "name": "ipython",
    "version": 3
   },
   "file_extension": ".py",
   "mimetype": "text/x-python",
   "name": "python",
   "nbconvert_exporter": "python",
   "pygments_lexer": "ipython3",
   "version": "3.6.6"
  }
 },
 "nbformat": 4,
 "nbformat_minor": 2
}
